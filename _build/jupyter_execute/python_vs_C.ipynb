{
 "cells": [
  {
   "cell_type": "markdown",
   "metadata": {
    "id": "HpfXQ1exoDDc"
   },
   "source": [
    "# Python vs C"
   ]
  },
  {
   "cell_type": "markdown",
   "metadata": {
    "id": "gmRWBroVHNVN"
   },
   "source": [
    "## Generate a random permutation of 2500 numbers to sort"
   ]
  },
  {
   "cell_type": "code",
   "execution_count": 1,
   "metadata": {
    "colab": {
     "base_uri": "https://localhost:8080/"
    },
    "id": "y3m8HB3YG3h7",
    "outputId": "6cd4dfae-cd5d-49dd-94e2-113522ddf84b"
   },
   "outputs": [
    {
     "name": "stdout",
     "output_type": "stream",
     "text": [
      "[ 341 2164  534 ...  765 2232  351]\n"
     ]
    }
   ],
   "source": [
    "import numpy as np\n",
    "n = 2500\n",
    "numbers = np.random.permutation(n)\n",
    "print (numbers)"
   ]
  },
  {
   "cell_type": "markdown",
   "metadata": {
    "id": "cvlvwDo4HVmv"
   },
   "source": [
    "## Sort in Python using Bubble Sort"
   ]
  },
  {
   "cell_type": "code",
   "execution_count": 2,
   "metadata": {
    "colab": {
     "base_uri": "https://localhost:8080/"
    },
    "id": "Lz0FfQ3CFz-8",
    "outputId": "8705ed86-aafe-4bfa-d81d-62299aa0e7e8"
   },
   "outputs": [
    {
     "name": "stdout",
     "output_type": "stream",
     "text": [
      "[   0    1    2 ... 2497 2498 2499]\n",
      "CPU times: user 3.2 s, sys: 20 ms, total: 3.22 s\n",
      "Wall time: 3.52 s\n"
     ]
    }
   ],
   "source": [
    "%%time\n",
    "# Bubble sort the numbers\n",
    "done = False\n",
    "while (done == False):\n",
    "    done = True\n",
    "    for i in range(n-1):\n",
    "        if (numbers[i] > numbers[i+1]):\n",
    "            temp = numbers[i]\n",
    "            numbers[i] = numbers[i+1]\n",
    "            numbers[i+1] = temp\n",
    "            done = False\n",
    "print (numbers)"
   ]
  },
  {
   "cell_type": "markdown",
   "metadata": {
    "id": "2xoxwdKZIGMe"
   },
   "source": [
    "## Estimate how long would it take to sort 5000 numbers using the above code.\n",
    "## Hint : Bubble Sort takes O($n^2$) time\n",
    "## Answer : around 14 seconds"
   ]
  },
  {
   "cell_type": "markdown",
   "metadata": {
    "id": "Unew3VfdJiwd"
   },
   "source": [
    "## Let's try 5000 numbers"
   ]
  },
  {
   "cell_type": "code",
   "execution_count": 3,
   "metadata": {
    "colab": {
     "base_uri": "https://localhost:8080/"
    },
    "id": "kGqpuCCXJce8",
    "outputId": "b2c4cdaa-40ef-47ed-dbe3-20e6136b7ace"
   },
   "outputs": [
    {
     "name": "stdout",
     "output_type": "stream",
     "text": [
      "[1122  671  295 ... 4069 1057  792]\n"
     ]
    }
   ],
   "source": [
    "import numpy as np\n",
    "n = 5000\n",
    "numbers = np.random.permutation(n)\n",
    "print (numbers)"
   ]
  },
  {
   "cell_type": "code",
   "execution_count": 4,
   "metadata": {
    "colab": {
     "base_uri": "https://localhost:8080/"
    },
    "id": "d_w1zkm6JnBa",
    "outputId": "7b9df7b1-2d97-43db-e7a5-24648a1fc4d0"
   },
   "outputs": [
    {
     "name": "stdout",
     "output_type": "stream",
     "text": [
      "[   0    1    2 ... 4997 4998 4999]\n",
      "CPU times: user 13.2 s, sys: 21.6 ms, total: 13.3 s\n",
      "Wall time: 13.9 s\n"
     ]
    }
   ],
   "source": [
    "%%time\n",
    "# Bubble sort the numbers\n",
    "done = False\n",
    "while (done == False):\n",
    "    done = True\n",
    "    for i in range(n-1):\n",
    "        if (numbers[i] > numbers[i+1]):\n",
    "            temp = numbers[i]\n",
    "            numbers[i] = numbers[i+1]\n",
    "            numbers[i+1] = temp\n",
    "            done = False\n",
    "print (numbers)"
   ]
  },
  {
   "cell_type": "markdown",
   "metadata": {
    "id": "cpPXLpjxIqoH"
   },
   "source": [
    "## Why is it taking so long to sort a small list?\n",
    "## Reason 1 : Bubble Sort is an inefficient algorithm.\n",
    "## Reason 2 : Native Python code is very slow!\n",
    "* Python is interpreted rather than compiled.\n",
    "* Python does run time type checking."
   ]
  },
  {
   "cell_type": "markdown",
   "metadata": {
    "id": "jpZZFkRiLMMC"
   },
   "source": [
    "## In this book we will learn how to program in C.  \n",
    "* C is a compiled language.\n",
    "* Since type checking is done at compile time C programs run fast."
   ]
  },
  {
   "cell_type": "markdown",
   "metadata": {
    "id": "k61TOS03L-al"
   },
   "source": [
    "## We can run C programs in Google Colab using the **file system** and **command line**."
   ]
  },
  {
   "cell_type": "markdown",
   "metadata": {
    "id": "n7CprRUvMZe9"
   },
   "source": [
    "## Let's start by learning how to run Python scripts from the command line."
   ]
  },
  {
   "cell_type": "markdown",
   "metadata": {
    "id": "FcoHO9HcrCn1"
   },
   "source": [
    "## Python Script For Generating a Random Permutation\n",
    "* Note that the code is not executed immediately.\n",
    "* The code is written to the file **sample.py**. \n",
    "* The script uses a **command line argument** to allow the user to specify n.   "
   ]
  },
  {
   "cell_type": "code",
   "execution_count": 5,
   "metadata": {
    "colab": {
     "base_uri": "https://localhost:8080/"
    },
    "id": "Qn2Ov_HGp-Q_",
    "outputId": "edf0e5b8-a77e-44cb-beac-53e714877c95"
   },
   "outputs": [
    {
     "name": "stdout",
     "output_type": "stream",
     "text": [
      "Overwriting sample.py\n"
     ]
    }
   ],
   "source": [
    "%%writefile sample.py\n",
    "import sys\n",
    "import numpy as np\n",
    "if (len(sys.argv) < 2):\n",
    "    print (\"Not enough command line arguments.\")\n",
    "    exit(1)\n",
    "n = int(sys.argv[1])\n",
    "numbers = np.random.permutation(n)\n",
    "print (\"# \"+str(n))\n",
    "for i in numbers:\n",
    "    print (i)"
   ]
  },
  {
   "cell_type": "markdown",
   "metadata": {
    "id": "_FEq4yYPNFQb"
   },
   "source": [
    "## We can view the file containing the Python script using the command line.\n",
    "* **cat** is a Linux command that displays the contents of a file.\n",
    "* Note that the ! tells Google Colab that what follows is a Linux command.  \n",
    "* The ! syntax is specific to Google Colab and we will not need it when we move to the ARC (advanced research cluster) here at VT.\n",
    "* We can also display the file using the GUI interface."
   ]
  },
  {
   "cell_type": "code",
   "execution_count": 6,
   "metadata": {
    "colab": {
     "base_uri": "https://localhost:8080/"
    },
    "id": "6vpe8gCVNKfb",
    "outputId": "c9bd74ed-6b21-4f3c-ab8f-0d61779cd339"
   },
   "outputs": [
    {
     "name": "stdout",
     "output_type": "stream",
     "text": [
      "import sys\n",
      "import numpy as np\n",
      "if (len(sys.argv) < 2):\n",
      "    print (\"Not enough command line arguments.\")\n",
      "    exit(1)\n",
      "n = int(sys.argv[1])\n",
      "numbers = np.random.permutation(n)\n",
      "print (\"# \"+str(n))\n",
      "for i in numbers:\n",
      "    print (i)\n"
     ]
    }
   ],
   "source": [
    "!cat sample.py"
   ]
  },
  {
   "cell_type": "markdown",
   "metadata": {
    "id": "Ey-kWrfnrM-O"
   },
   "source": [
    "## Generate a Random Permutation of 20 integers and write result to a File\n",
    "* We run the Python script **sample.py** from the command line. \n",
    "* Rather than display the output immediately, we redirect the result to the file **num20.txt**.\n",
    "* We can again use the **cat** command to display the result.  "
   ]
  },
  {
   "cell_type": "code",
   "execution_count": 7,
   "metadata": {
    "id": "ApZ_U_EjqEo9"
   },
   "outputs": [],
   "source": [
    "!python3 sample.py 20 > num20.txt"
   ]
  },
  {
   "cell_type": "code",
   "execution_count": 8,
   "metadata": {
    "colab": {
     "base_uri": "https://localhost:8080/"
    },
    "id": "Rtg8wYj-e8ox",
    "outputId": "39f9d375-8da2-494d-a663-f7bf2308a51c"
   },
   "outputs": [
    {
     "name": "stdout",
     "output_type": "stream",
     "text": [
      "# 20\n",
      "9\n",
      "11\n",
      "0\n",
      "16\n",
      "10\n",
      "6\n",
      "4\n",
      "19\n",
      "5\n",
      "17\n",
      "14\n",
      "15\n",
      "7\n",
      "2\n",
      "13\n",
      "3\n",
      "1\n",
      "12\n",
      "18\n",
      "8\n"
     ]
    }
   ],
   "source": [
    "!cat num20.txt"
   ]
  },
  {
   "cell_type": "markdown",
   "metadata": {
    "id": "BrVWjD7xsURF"
   },
   "source": [
    "## A Python Script for Bubble Sort"
   ]
  },
  {
   "cell_type": "code",
   "execution_count": 9,
   "metadata": {
    "colab": {
     "base_uri": "https://localhost:8080/"
    },
    "id": "XuYn7vIsoq43",
    "outputId": "3322ab56-0d7c-4b70-bd14-94ab9986c6dc"
   },
   "outputs": [
    {
     "name": "stdout",
     "output_type": "stream",
     "text": [
      "Overwriting bubble.py\n"
     ]
    }
   ],
   "source": [
    "%%writefile bubble.py\n",
    "\n",
    "# read the numbers from standard input into a python array\n",
    "n = int(input()[1:])\n",
    "numbers = [0]*n\n",
    "for i in range(n):\n",
    "    numbers[i] = int(input())\n",
    "\n",
    "# Bubble sort\n",
    "done = False\n",
    "while (done == False):\n",
    "    done = True\n",
    "    for i in range(n-1):\n",
    "        if (numbers[i] > numbers[i+1]):\n",
    "            temp = numbers[i]\n",
    "            numbers[i] = numbers[i+1]\n",
    "            numbers[i+1] = temp\n",
    "            done = False\n",
    "\n",
    "# print the result one number per line\n",
    "print (\"# \"+str(n))\n",
    "for i in numbers:\n",
    "    print (i)"
   ]
  },
  {
   "cell_type": "markdown",
   "metadata": {
    "id": "IZ1yZgb5szM0"
   },
   "source": [
    "## Sort the file of 20 integers using Bubble Sort in Python\n",
    "* The file of unsorted integers is **piped** into the Python Script.\n",
    "* The output is redirected to the file sorted20_python.txt."
   ]
  },
  {
   "cell_type": "code",
   "execution_count": 10,
   "metadata": {
    "colab": {
     "base_uri": "https://localhost:8080/"
    },
    "id": "NOSAmArZp9Gs",
    "outputId": "da3e83ee-51c2-4f73-9004-2594fd22dd1b"
   },
   "outputs": [
    {
     "name": "stdout",
     "output_type": "stream",
     "text": [
      "# 20\n",
      "0\n",
      "1\n",
      "2\n",
      "3\n",
      "4\n",
      "5\n",
      "6\n",
      "7\n",
      "8\n",
      "9\n",
      "10\n",
      "11\n",
      "12\n",
      "13\n",
      "14\n",
      "15\n",
      "16\n",
      "17\n",
      "18\n",
      "19\n"
     ]
    }
   ],
   "source": [
    "!cat num20.txt | python3 bubble.py > sorted20_python.txt\n",
    "!cat sorted20_python.txt"
   ]
  },
  {
   "cell_type": "markdown",
   "metadata": {
    "id": "9pHuJZEttEq2"
   },
   "source": [
    "## Generate a random permutation of 5000 integers and write result to a file"
   ]
  },
  {
   "cell_type": "code",
   "execution_count": 11,
   "metadata": {
    "id": "ZM92t_HsskUc"
   },
   "outputs": [],
   "source": [
    "!python3 sample.py 5000 > num5k.txt"
   ]
  },
  {
   "cell_type": "markdown",
   "metadata": {
    "id": "2JGd3YBstkqV"
   },
   "source": [
    "## Sort the file of 5000 integers using Bubble Sort in Python and write result to a file\n",
    "* Note that we cut the runtime in half using a Python script.\n",
    "* We can do much better using a compiled C program!"
   ]
  },
  {
   "cell_type": "code",
   "execution_count": 12,
   "metadata": {
    "colab": {
     "base_uri": "https://localhost:8080/"
    },
    "id": "QJdtTK70tniu",
    "outputId": "de110422-2375-40e2-afe7-6876ef3488c3"
   },
   "outputs": [
    {
     "name": "stdout",
     "output_type": "stream",
     "text": [
      "CPU times: user 78 ms, sys: 9.86 ms, total: 87.9 ms\n",
      "Wall time: 7.25 s\n"
     ]
    }
   ],
   "source": [
    "%%time\n",
    "!cat num5k.txt | python3 bubble.py > sorted5k_python.txt"
   ]
  },
  {
   "cell_type": "markdown",
   "metadata": {
    "id": "iOOF4s_FupPY"
   },
   "source": [
    "## Bubble Sort in C\n",
    "* Compare the C code that performs the bubble sort to the Python version."
   ]
  },
  {
   "cell_type": "code",
   "execution_count": 13,
   "metadata": {
    "colab": {
     "base_uri": "https://localhost:8080/"
    },
    "id": "GM9gk6m-tr7-",
    "outputId": "bad7a570-7340-4e95-e534-058039a606e4"
   },
   "outputs": [
    {
     "name": "stdout",
     "output_type": "stream",
     "text": [
      "Overwriting bubble.c\n"
     ]
    }
   ],
   "source": [
    "%%writefile bubble.c\n",
    "\n",
    "#include <stdio.h>\n",
    "#include <stdlib.h>\n",
    "\n",
    "int main () {\n",
    "  /* read the numbers into a C array */\n",
    "  int n;\n",
    "  if (scanf (\"%*c %d\",&n) != 1) {\n",
    "    return 1;\n",
    "  }\n",
    "  int* numbers = calloc(n,sizeof(int));\n",
    "  for (int i=0;i<n;i++) {\n",
    "\t  if (scanf (\"%d\",&(numbers[i])) != 1) {\n",
    "      return 1;\n",
    "    }\n",
    "  }\n",
    "\n",
    "  /* Bubble sort */\n",
    "  int done = 0;\n",
    "  while (!done) {\n",
    "\t  done = 1;\n",
    "\t  for (int i=0;i<n-1;i++) {\n",
    "\t    if (numbers[i] > numbers[i+1]) {\n",
    "\t\t    int temp = numbers[i];\n",
    "\t\t    numbers[i] = numbers[i+1];\n",
    "\t\t    numbers[i+1] = temp;\n",
    "\t\t    done = 0;\n",
    "\t    }\n",
    "\t  }\n",
    "  }\n",
    "\n",
    "  /* print the result one number per line */\n",
    "  printf (\"# %d\\n\",n);\n",
    "  for (int i=0;i<n;i++) {\n",
    "\t  printf (\"%d\\n\",numbers[i]);\n",
    "  }\n",
    "\n",
    "  /* free the dynamically allocated numbers array and return */\n",
    "  free (numbers);\n",
    "  return 0;\n",
    "}\n"
   ]
  },
  {
   "cell_type": "markdown",
   "metadata": {
    "id": "sLvTusGSuzqA"
   },
   "source": [
    "## Compile the C Bubble Sort Program\n",
    "* The name of the compiled C program is **bubble**."
   ]
  },
  {
   "cell_type": "code",
   "execution_count": 14,
   "metadata": {
    "id": "2BALibN-uvYa"
   },
   "outputs": [],
   "source": [
    "!gcc -o bubble bubble.c"
   ]
  },
  {
   "cell_type": "markdown",
   "metadata": {
    "id": "sGfa1atqvPB7"
   },
   "source": [
    "## Sort the file of 5000 integers using Bubble Sort in C and write result to a file\n",
    "* It takes the C program a fraction of a second to sort 5000 integers.  "
   ]
  },
  {
   "cell_type": "code",
   "execution_count": 15,
   "metadata": {
    "colab": {
     "base_uri": "https://localhost:8080/"
    },
    "id": "1wtb8Qgwt4Il",
    "outputId": "e4169ca2-c89b-40d5-c7df-be0600f9b3d2"
   },
   "outputs": [
    {
     "name": "stdout",
     "output_type": "stream",
     "text": [
      "CPU times: user 11 ms, sys: 3 µs, total: 11 ms\n",
      "Wall time: 208 ms\n"
     ]
    }
   ],
   "source": [
    "%%time\n",
    "!cat num5k.txt | ./bubble > sorted5k_C.txt"
   ]
  },
  {
   "cell_type": "markdown",
   "metadata": {
    "id": "TL4Aj5I4SuIf"
   },
   "source": [
    "## Compare the C sorted results and Python sorted results using **diff**.\n",
    "* Since **diff** produces the no output, the files are identical.  "
   ]
  },
  {
   "cell_type": "code",
   "execution_count": null,
   "metadata": {
    "id": "CgFmtW-sS-Ud"
   },
   "outputs": [],
   "source": [
    "!diff sorted5k_python.txt sorted5k_C.txt"
   ]
  },
  {
   "cell_type": "markdown",
   "metadata": {
    "id": "jOmdXOOSTYLl"
   },
   "source": [
    "## Let's use the C program to sort a file of 50000 integers.  \n",
    "* Even though C is fast we are using an inefficient sorting O($n^2$) algorithm. "
   ]
  },
  {
   "cell_type": "code",
   "execution_count": 17,
   "metadata": {
    "id": "TKBBUTBaThhG"
   },
   "outputs": [],
   "source": [
    "!python3 sample.py 50000 > num50k.txt"
   ]
  },
  {
   "cell_type": "code",
   "execution_count": 18,
   "metadata": {
    "colab": {
     "base_uri": "https://localhost:8080/"
    },
    "id": "RUfQzoQeTqXg",
    "outputId": "c6fc35c8-509f-4c67-8ea2-52e11b4dd3e6"
   },
   "outputs": [
    {
     "name": "stdout",
     "output_type": "stream",
     "text": [
      "CPU times: user 153 ms, sys: 17 ms, total: 170 ms\n",
      "Wall time: 15.4 s\n"
     ]
    }
   ],
   "source": [
    "%%time\n",
    "!cat num50k.txt | ./bubble > sorted50k_C.txt"
   ]
  },
  {
   "cell_type": "markdown",
   "metadata": {
    "id": "LW5itl5EwMXH"
   },
   "source": [
    "## Use Optimized Compiler to compile the C Bubble Sort Program"
   ]
  },
  {
   "cell_type": "code",
   "execution_count": 19,
   "metadata": {
    "id": "7S8YyPtqvx8N"
   },
   "outputs": [],
   "source": [
    "!gcc -O3 -o bubble_opt bubble.c"
   ]
  },
  {
   "cell_type": "markdown",
   "metadata": {
    "id": "VJGHEN9wEZpM"
   },
   "source": [
    "## Sort the file of 50000 integers using Bubble Sort compiled with the optimizing compiler."
   ]
  },
  {
   "cell_type": "code",
   "execution_count": 20,
   "metadata": {
    "colab": {
     "base_uri": "https://localhost:8080/"
    },
    "id": "fihiKLiYwb25",
    "outputId": "6de6879b-b0b4-4722-fc81-bcd95fd378d0"
   },
   "outputs": [
    {
     "name": "stdout",
     "output_type": "stream",
     "text": [
      "CPU times: user 73.4 ms, sys: 11 ms, total: 84.4 ms\n",
      "Wall time: 7.35 s\n"
     ]
    }
   ],
   "source": [
    "%%time\n",
    "!cat num50k.txt | ./bubble_opt > sorted50k_opt_C.txt"
   ]
  },
  {
   "cell_type": "markdown",
   "metadata": {
    "id": "6Eza4H0GVjFG"
   },
   "source": [
    "## For comparison purposes let's use the Python script to sort the 50000 integer file.  \n",
    "* It took 11 minutes and 44 seconds to run!"
   ]
  },
  {
   "cell_type": "code",
   "execution_count": 21,
   "metadata": {
    "colab": {
     "base_uri": "https://localhost:8080/"
    },
    "id": "5lLSFc-0xDcM",
    "outputId": "f2354dd2-53ee-4ad9-c82d-c6d73fdadf9b"
   },
   "outputs": [
    {
     "name": "stdout",
     "output_type": "stream",
     "text": [
      "CPU times: user 6.49 s, sys: 818 ms, total: 7.31 s\n",
      "Wall time: 11min 44s\n"
     ]
    }
   ],
   "source": [
    "%%time\n",
    "!cat num50k.txt | python3 bubble.py > sorted50k_python.txt"
   ]
  },
  {
   "cell_type": "markdown",
   "metadata": {
    "id": "tGgrlYY3Y3Sq"
   },
   "source": [
    "## Verify that the outputs match."
   ]
  },
  {
   "cell_type": "code",
   "execution_count": 22,
   "metadata": {
    "id": "5UM4xCmcV3YN"
   },
   "outputs": [],
   "source": [
    "!diff sorted50k_python.txt sorted50k_C.txt\n",
    "!diff sorted50k_python.txt sorted50k_opt_C.txt"
   ]
  },
  {
   "cell_type": "markdown",
   "metadata": {
    "id": "k3LXgY2hu8kv"
   },
   "source": [
    "## Since native Python is so slow, why is Python currently the most popular programming language for data science?\n",
    "\n",
    "## Answer: Most Python libraries are written using C for maximum performance. "
   ]
  }
 ],
 "metadata": {
  "colab": {
   "provenance": []
  },
  "kernelspec": {
   "display_name": "Python 3",
   "language": "python",
   "name": "python3"
  },
  "language_info": {
   "codemirror_mode": {
    "name": "ipython",
    "version": 3
   },
   "file_extension": ".py",
   "mimetype": "text/x-python",
   "name": "python",
   "nbconvert_exporter": "python",
   "pygments_lexer": "ipython3",
   "version": "3.8.8"
  }
 },
 "nbformat": 4,
 "nbformat_minor": 0
}