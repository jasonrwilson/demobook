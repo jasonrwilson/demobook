{
 "cells": [
  {
   "cell_type": "markdown",
   "metadata": {
    "_cell_guid": "b940be7f-e465-4cc6-a925-532140738302",
    "_uuid": "c55b8b5e-51f3-4be8-9af2-dd07d25d17b3"
   },
   "source": [
    "# Intro to OpenMP"
   ]
  },
  {
   "cell_type": "markdown",
   "metadata": {
    "_cell_guid": "1bc7d91d-9a51-4566-8f21-97852e8e2406",
    "_uuid": "4bbc3d35-f513-4c7f-97ac-da83780e3974"
   },
   "source": [
    "## Part 1 : Sequential Sum"
   ]
  },
  {
   "cell_type": "code",
   "execution_count": 1,
   "metadata": {
    "_cell_guid": "0f02b34b-f9dd-40bb-9eda-d38c6c9f9c72",
    "_uuid": "a74bf335-e971-412b-9d0c-648173a5fa77",
    "execution": {
     "iopub.execute_input": "2023-05-15T09:57:44.304474Z",
     "iopub.status.busy": "2023-05-15T09:57:44.303796Z",
     "iopub.status.idle": "2023-05-15T09:57:44.323013Z",
     "shell.execute_reply": "2023-05-15T09:57:44.321202Z",
     "shell.execute_reply.started": "2023-05-15T09:57:44.304397Z"
    },
    "jupyter": {
     "outputs_hidden": false
    }
   },
   "outputs": [
    {
     "name": "stdout",
     "output_type": "stream",
     "text": [
      "Writing sum.c\n"
     ]
    }
   ],
   "source": [
    "%%writefile sum.c\n",
    "\n",
    "#include <stdio.h>\n",
    "#include <stdlib.h>\n",
    "\n",
    "typedef unsigned long ulong;\n",
    "\n",
    "int main(int argc, char **argv) {\n",
    "\n",
    "    /* get N from command line */\n",
    "    if (argc != 2) {\n",
    "\t    printf (\"Command usage : %s %s\\n\",argv[0],\"N\");\n",
    "\t    return 1;\n",
    "    }\n",
    "\n",
    "    ulong N = atol(argv[1]);\n",
    "\n",
    "    ulong sum = 0;\n",
    "    for (ulong i = 1; i <= N;i++) {\n",
    "\t    sum += i;\n",
    "    }\n",
    "\n",
    "    printf (\"sum = %lu\\n\",sum);\n",
    "    printf (\"N*(N+1)/2 = %lu\\n\",(N/2)*(N+1));\n",
    "}"
   ]
  },
  {
   "cell_type": "code",
   "execution_count": 2,
   "metadata": {
    "_cell_guid": "4c224525-8030-4653-bb11-6a0c59263299",
    "_uuid": "a1d5aba8-4239-4a3c-9d45-833594b99019",
    "execution": {
     "iopub.execute_input": "2023-05-15T09:57:44.332059Z",
     "iopub.status.busy": "2023-05-15T09:57:44.331474Z",
     "iopub.status.idle": "2023-05-15T09:57:45.521054Z",
     "shell.execute_reply": "2023-05-15T09:57:45.519007Z",
     "shell.execute_reply.started": "2023-05-15T09:57:44.332016Z"
    },
    "jupyter": {
     "outputs_hidden": false
    }
   },
   "outputs": [],
   "source": [
    "!gcc -o sum sum.c"
   ]
  },
  {
   "cell_type": "code",
   "execution_count": 3,
   "metadata": {
    "_cell_guid": "b5ece1f6-2c93-4a26-8897-1f5f288994ed",
    "_uuid": "cce14567-c604-4af0-9186-029832745d9b",
    "execution": {
     "iopub.execute_input": "2023-05-15T09:57:45.524064Z",
     "iopub.status.busy": "2023-05-15T09:57:45.523597Z",
     "iopub.status.idle": "2023-05-15T09:57:46.938780Z",
     "shell.execute_reply": "2023-05-15T09:57:46.936809Z",
     "shell.execute_reply.started": "2023-05-15T09:57:45.524023Z"
    },
    "jupyter": {
     "outputs_hidden": false
    }
   },
   "outputs": [
    {
     "name": "stdout",
     "output_type": "stream",
     "text": [
      "sum = 5000000050000000\n",
      "N*(N+1)/2 = 5000000050000000\n",
      "CPU times: user 8.3 ms, sys: 7.55 ms, total: 15.9 ms\n",
      "Wall time: 555 ms\n"
     ]
    }
   ],
   "source": [
    "%%time \n",
    "! ./sum 100000000"
   ]
  },
  {
   "cell_type": "markdown",
   "metadata": {
    "_cell_guid": "d29fa544-e7e8-4100-8e91-90862aef7892",
    "_uuid": "75dd71ae-c139-4ea1-9c4b-3db5b11ea253"
   },
   "source": [
    "## Part 2 : OpenMP Sum"
   ]
  },
  {
   "cell_type": "code",
   "execution_count": 4,
   "metadata": {
    "_cell_guid": "a4774cf0-e471-409b-82b9-17a3792e7c49",
    "_uuid": "77700dea-7d3a-422f-ab6e-dd66727b27a7",
    "execution": {
     "iopub.execute_input": "2023-05-15T09:57:46.942906Z",
     "iopub.status.busy": "2023-05-15T09:57:46.942430Z",
     "iopub.status.idle": "2023-05-15T09:57:46.953397Z",
     "shell.execute_reply": "2023-05-15T09:57:46.951677Z",
     "shell.execute_reply.started": "2023-05-15T09:57:46.942852Z"
    },
    "jupyter": {
     "outputs_hidden": false
    }
   },
   "outputs": [
    {
     "name": "stdout",
     "output_type": "stream",
     "text": [
      "Writing sum_v1.c\n"
     ]
    }
   ],
   "source": [
    "%%writefile sum_v1.c\n",
    "\n",
    "#include <stdio.h>\n",
    "#include <stdlib.h>\n",
    "#include <omp.h>\n",
    "\n",
    "typedef unsigned long ulong;\n",
    "\n",
    "int main(int argc, char **argv) {\n",
    "\n",
    "    /* get N and thread_count from command line */\n",
    "    if (argc < 3) {\n",
    "        printf (\"Command usage : %s %s %s\\n\",argv[0],\"N\",\"thread_count\");\n",
    "        return 1;\n",
    "    }\n",
    "\n",
    "    ulong N = atol(argv[1]);\n",
    "    int thread_count = atoi(argv[2]);\n",
    "    omp_set_num_threads(thread_count);\n",
    "\n",
    "    /* start the timer */\n",
    "    double start_time, end_time;\n",
    "    start_time = omp_get_wtime();\n",
    "\n",
    "    ulong sum = 0;\n",
    "#pragma omp parallel\n",
    "    {\n",
    "        ulong thread_sum = 0;\n",
    "#pragma omp for\n",
    "        for (ulong i=1;i<=N;i++) {\n",
    "            thread_sum += i;\n",
    "\t    }\n",
    "#pragma omp atomic\n",
    "        sum += thread_sum;\n",
    "    }   \n",
    "\n",
    "    /* stop the timer */\n",
    "    end_time = omp_get_wtime();\n",
    "\n",
    "    printf (\"thread_count = %d, \",thread_count);\n",
    "    printf (\"elapsed time = %g\\n\",end_time-start_time);\n",
    "    printf (\" N = %lu, \",N);\n",
    "    printf (\"sum = %lu, \",sum);\n",
    "    printf (\"N*(N+1)/2 = %lu\\n\",(N/2)*(N+1));\n",
    "}"
   ]
  },
  {
   "cell_type": "code",
   "execution_count": 7,
   "metadata": {
    "_cell_guid": "972f3207-8ed9-4cd0-bbb9-e60ec1e6f522",
    "_uuid": "0bdad211-2c34-4f77-bfb9-c16ea0618354",
    "execution": {
     "iopub.execute_input": "2023-05-15T09:57:46.955740Z",
     "iopub.status.busy": "2023-05-15T09:57:46.955011Z",
     "iopub.status.idle": "2023-05-15T09:57:48.159466Z",
     "shell.execute_reply": "2023-05-15T09:57:48.158042Z",
     "shell.execute_reply.started": "2023-05-15T09:57:46.955702Z"
    },
    "jupyter": {
     "outputs_hidden": false
    }
   },
   "outputs": [
    {
     "name": "stdout",
     "output_type": "stream",
     "text": [
      "\u001b[1msum_v1.c:4:10: \u001b[0m\u001b[0;1;31mfatal error: \u001b[0m\u001b[1m'omp.h' file not found\u001b[0m\r\n",
      "#include <omp.h>\r\n",
      "\u001b[0;1;32m         ^~~~~~~\r\n",
      "\u001b[0m1 error generated.\r\n"
     ]
    }
   ],
   "source": [
    "!gcc -o sum_v1 sum_v1.c -Xclang -fopenmp"
   ]
  },
  {
   "cell_type": "code",
   "execution_count": 6,
   "metadata": {
    "_cell_guid": "fc1235cf-93af-4b7d-95de-4c5105305d2d",
    "_uuid": "661a2d1e-ad6c-4e2d-a3f4-dd8f1722cb84",
    "execution": {
     "iopub.execute_input": "2023-05-15T09:58:18.112291Z",
     "iopub.status.busy": "2023-05-15T09:58:18.111708Z",
     "iopub.status.idle": "2023-05-15T09:58:22.063350Z",
     "shell.execute_reply": "2023-05-15T09:58:22.061471Z",
     "shell.execute_reply.started": "2023-05-15T09:58:18.112243Z"
    },
    "jupyter": {
     "outputs_hidden": false
    }
   },
   "outputs": [
    {
     "name": "stdout",
     "output_type": "stream",
     "text": [
      "zsh:1: no such file or directory: ./sum_v1\n",
      "zsh:1: no such file or directory: ./sum_v1\n",
      "zsh:1: no such file or directory: ./sum_v1\n"
     ]
    }
   ],
   "source": [
    "! ./sum_v1 100000000 1\n",
    "! ./sum_v1 100000000 2\n",
    "! ./sum_v1 100000000 4"
   ]
  },
  {
   "cell_type": "code",
   "execution_count": null,
   "metadata": {},
   "outputs": [],
   "source": []
  }
 ],
 "metadata": {
  "kernelspec": {
   "display_name": "Python 3",
   "language": "python",
   "name": "python3"
  },
  "language_info": {
   "codemirror_mode": {
    "name": "ipython",
    "version": 3
   },
   "file_extension": ".py",
   "mimetype": "text/x-python",
   "name": "python",
   "nbconvert_exporter": "python",
   "pygments_lexer": "ipython3",
   "version": "3.8.8"
  }
 },
 "nbformat": 4,
 "nbformat_minor": 4
}