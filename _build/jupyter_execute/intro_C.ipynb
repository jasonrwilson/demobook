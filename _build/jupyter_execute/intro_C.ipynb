{
 "cells": [
  {
   "cell_type": "markdown",
   "metadata": {
    "id": "_DvLxinyH-pD"
   },
   "source": [
    "# Example 1 : Hello World\n",
    "* The %%writefile magic command is used to create our C source file.\n",
    "* The C include file *stdio.h* gives the function headers (or interfaces) for C input/output functions such as *printf*.\n",
    "* All C programs must have a *main* function.  \n",
    "* The main function has optional arguments related to command line argments (covered later).\n",
    "* printf is short for print formatted. \n",
    "* Optionally, you can add the statement *return 0;* to the end of main indicating a successful run.\n",
    "* Note that C comments can be placed between /* and */\n",
    "* In Google Colab all of our Linux shell commands start with !\n",
    "* Exercise : The \"\\n\" stands for newline.  Experiment with removing the \"\\n\" from the printf statements.\n",
    "* Exercise : Comment out line 7.  What do you observe?\n",
    "* Exercise : Remove the semicolon from the end of line 6 and see what happens.  Practice with some other \"syntax errors\".\n",
    "* Exercise : Use *man stdio* to learn more the C standard input/output library.\n",
    "* Exercise : Use the Linux shell command *whereis* to locate the file *stdio.h*.  Use the Linux shell command *grep* to search *stdio.h* for *printf*."
   ]
  },
  {
   "cell_type": "code",
   "execution_count": 1,
   "metadata": {
    "colab": {
     "base_uri": "https://localhost:8080/"
    },
    "id": "lj1URTe5HZx4",
    "outputId": "7f9156f7-67c7-4f29-ab35-892c8b7a3f62"
   },
   "outputs": [
    {
     "name": "stdout",
     "output_type": "stream",
     "text": [
      "Overwriting hello.c\n"
     ]
    }
   ],
   "source": [
    "%%writefile hello.c\n",
    "\n",
    "#include <stdio.h>\n",
    "\n",
    "int main () {\n",
    "  printf (\"Hello World!\\n\");\n",
    "  printf (\"How are you today?\\n\");\n",
    "  return 0; /* optional : indicates a successful run */\n",
    "}"
   ]
  },
  {
   "cell_type": "code",
   "execution_count": 2,
   "metadata": {
    "id": "F-hFJbJoHpRU"
   },
   "outputs": [],
   "source": [
    "!gcc -o hello hello.c"
   ]
  },
  {
   "cell_type": "code",
   "execution_count": 3,
   "metadata": {
    "colab": {
     "base_uri": "https://localhost:8080/"
    },
    "id": "d8slemYUHuDk",
    "outputId": "40de3172-b280-4692-ab50-28464a6a5b0f"
   },
   "outputs": [
    {
     "name": "stdout",
     "output_type": "stream",
     "text": [
      "Hello World!\n",
      "How are you today?\n"
     ]
    }
   ],
   "source": [
    "!./hello"
   ]
  },
  {
   "cell_type": "markdown",
   "metadata": {
    "id": "s2PiFXMyJB3O"
   },
   "source": [
    "# Example 2 : Working with Integers\n",
    "* The %d is a place holder for an integer\n",
    "* Try to add 1 billion to 2 billion.  What do you observe?\n"
   ]
  },
  {
   "cell_type": "code",
   "execution_count": 4,
   "metadata": {
    "colab": {
     "base_uri": "https://localhost:8080/"
    },
    "id": "pKPHGmYxH39y",
    "outputId": "5f1d2d62-c691-477b-a9b4-41edc74a2e94"
   },
   "outputs": [
    {
     "name": "stdout",
     "output_type": "stream",
     "text": [
      "Overwriting sum.c\n"
     ]
    }
   ],
   "source": [
    "%%writefile sum.c\n",
    "\n",
    "#include <stdio.h>\n",
    "\n",
    "int main () {\n",
    "  int a = 1000000;\n",
    "  int b = 2000000;\n",
    "  int c = a + b;\n",
    "  printf (\"The sum of %d and %d is %d\\n\",a,b,c);\n",
    "}"
   ]
  },
  {
   "cell_type": "code",
   "execution_count": 5,
   "metadata": {
    "id": "jaFU7SppKImj"
   },
   "outputs": [],
   "source": [
    "!gcc -o sum sum.c"
   ]
  },
  {
   "cell_type": "code",
   "execution_count": 6,
   "metadata": {
    "colab": {
     "base_uri": "https://localhost:8080/"
    },
    "id": "RJobNAiKKNdr",
    "outputId": "ca27ab4d-97b2-4408-ce68-284632ad228a"
   },
   "outputs": [
    {
     "name": "stdout",
     "output_type": "stream",
     "text": [
      "The sum of 1000000 and 2000000 is 3000000\n"
     ]
    }
   ],
   "source": [
    "!./sum"
   ]
  },
  {
   "cell_type": "markdown",
   "metadata": {
    "id": "y4RjllmULT6K"
   },
   "source": [
    "# Example 3 : The Limits of a C int\n",
    "* For many C compilers, a C integer is stored in memory as a sequence of 32 bits or 4 bytes (a byte is 8 bits).\n",
    "* Since 1 bit is used for the sign, we can store $2^{31}$ different non-negative integers as a C int.\n",
    "* Since 0 uses up one of the $2^{31}$ possibilities, the largest C integer we can store is\n",
    "$$2^{31} - 1 = 2147483647$$\n",
    "* We can use all $2^{31}$ bit combinations to store negative numbers so the smallest C integer we can store is\n",
    "$$-2^{31} = -2147483648$$\n",
    "* The number of bytes used to store a C integer is compiler dependent.\n",
    "* The C include file *limits.h* specifies some of these compiler dependent constants.   \n",
    "* For example, *INT_MAX* is a constant set to the largest C integer and *INT_MIN* is a constant set to the smallest C integer."
   ]
  },
  {
   "cell_type": "code",
   "execution_count": 7,
   "metadata": {
    "colab": {
     "base_uri": "https://localhost:8080/"
    },
    "id": "SUWuS6J_KROM",
    "outputId": "54f991fa-9143-4e3d-8be5-fd0259a13655"
   },
   "outputs": [
    {
     "name": "stdout",
     "output_type": "stream",
     "text": [
      "Overwriting limits.c\n"
     ]
    }
   ],
   "source": [
    "%%writefile limits.c\n",
    "\n",
    "#include <stdio.h>\n",
    "#include <limits.h>\n",
    "\n",
    "int main () {\n",
    "  printf(\"Largest C int is %d\\n\",INT_MAX);\n",
    "  printf(\"Smallest C int is %d\\n\",INT_MIN);\n",
    "}"
   ]
  },
  {
   "cell_type": "code",
   "execution_count": 8,
   "metadata": {
    "id": "aMoDpnjeMCvI"
   },
   "outputs": [],
   "source": [
    "!gcc -o limits limits.c"
   ]
  },
  {
   "cell_type": "code",
   "execution_count": 9,
   "metadata": {
    "colab": {
     "base_uri": "https://localhost:8080/"
    },
    "id": "4992JiAAMERK",
    "outputId": "961b8c58-0021-4605-d02d-7545b48e3d33"
   },
   "outputs": [
    {
     "name": "stdout",
     "output_type": "stream",
     "text": [
      "Largest C int is 2147483647\n",
      "Smallest C int is -2147483648\n"
     ]
    }
   ],
   "source": [
    "!./limits"
   ]
  },
  {
   "cell_type": "markdown",
   "metadata": {
    "id": "vCyIzMwFdgQG"
   },
   "source": [
    "\n",
    "# Example 4 : Working with Long Integers\n",
    "* For many C compilers, a C long integer is stored in memory as a sequence of 64 bits or 8 bytes.\n",
    "* The %ld is a place holder for a long integer\n",
    "* Exercise.  Given that a long integer in C uses 64 bits (one of these is a sign bit) figure out the largest and smallest long integer.  Check your answers by printing out the constants *LONG_MAX* and *LONG_MIN* contained in the *limits.h* file.  Hint: Use Python to print the big numbers.  \n"
   ]
  },
  {
   "cell_type": "code",
   "execution_count": 10,
   "metadata": {
    "colab": {
     "base_uri": "https://localhost:8080/"
    },
    "id": "W13K3gDPMLsT",
    "outputId": "61c44390-f596-4cb2-8496-7a6bdae072ff"
   },
   "outputs": [
    {
     "name": "stdout",
     "output_type": "stream",
     "text": [
      "Overwriting lsum.c\n"
     ]
    }
   ],
   "source": [
    "%%writefile lsum.c\n",
    "\n",
    "#include <stdio.h>\n",
    "\n",
    "int main () {\n",
    "  long int a = 1000000000;\n",
    "  long int b = 2000000000;\n",
    "  long int c = a + b;\n",
    "  printf (\"The sum of %ld and %ld is %ld\\n\",a,b,c);\n",
    "}"
   ]
  },
  {
   "cell_type": "code",
   "execution_count": 11,
   "metadata": {
    "id": "va1vULO-eGxS"
   },
   "outputs": [],
   "source": [
    "!gcc -o lsum lsum.c"
   ]
  },
  {
   "cell_type": "code",
   "execution_count": 12,
   "metadata": {
    "colab": {
     "base_uri": "https://localhost:8080/"
    },
    "id": "M_YGmVfleISr",
    "outputId": "5ebcd530-aa37-4c86-f2d4-66045e426af8"
   },
   "outputs": [
    {
     "name": "stdout",
     "output_type": "stream",
     "text": [
      "The sum of 1000000000 and 2000000000 is 3000000000\n"
     ]
    }
   ],
   "source": [
    "!./lsum"
   ]
  },
  {
   "cell_type": "markdown",
   "metadata": {
    "id": "LTtIwGjQfzZy"
   },
   "source": [
    "# Example 5 : The limits of a C long int\n",
    "* For many C compilers, a C long integer is stored in memory as a sequence of 64 bits or 8 bytes\n"
   ]
  },
  {
   "cell_type": "code",
   "execution_count": 13,
   "metadata": {
    "colab": {
     "base_uri": "https://localhost:8080/"
    },
    "id": "aNyHqoBNgCAT",
    "outputId": "746970c3-7220-4789-8579-f702aeb857f3"
   },
   "outputs": [
    {
     "name": "stdout",
     "output_type": "stream",
     "text": [
      "Overwriting limits.c\n"
     ]
    }
   ],
   "source": [
    "%%writefile limits.c\n",
    "\n",
    "#include <stdio.h>\n",
    "#include <limits.h>\n",
    "\n",
    "int main () {\n",
    "  printf(\"Largest C int is %d\\n\",INT_MAX);\n",
    "  printf(\"Smallest C int is %d\\n\",INT_MIN);\n",
    "  printf(\"Largest C long int is %ld\\n\",LONG_MAX);\n",
    "  printf(\"Smallest C long int is %ld\\n\",LONG_MIN);\n",
    "}"
   ]
  },
  {
   "cell_type": "code",
   "execution_count": 14,
   "metadata": {
    "id": "PitNQ-aJgVr9"
   },
   "outputs": [],
   "source": [
    "!gcc -o limits limits.c"
   ]
  },
  {
   "cell_type": "code",
   "execution_count": 15,
   "metadata": {
    "colab": {
     "base_uri": "https://localhost:8080/"
    },
    "id": "GO5uSg_cgW_A",
    "outputId": "483fcfe1-a168-43d4-8525-bff15603648f"
   },
   "outputs": [
    {
     "name": "stdout",
     "output_type": "stream",
     "text": [
      "Largest C int is 2147483647\n",
      "Smallest C int is -2147483648\n",
      "Largest C long int is 9223372036854775807\n",
      "Smallest C long int is -9223372036854775808\n"
     ]
    }
   ],
   "source": [
    "!./limits"
   ]
  },
  {
   "cell_type": "code",
   "execution_count": 16,
   "metadata": {
    "colab": {
     "base_uri": "https://localhost:8080/"
    },
    "id": "ezGzBn7cgZR-",
    "outputId": "51e772b5-25d1-4df7-a94a-3be375270bc2"
   },
   "outputs": [
    {
     "data": {
      "text/plain": [
       "9223372036854775807"
      ]
     },
     "execution_count": 16,
     "metadata": {},
     "output_type": "execute_result"
    }
   ],
   "source": [
    "2**63-1"
   ]
  },
  {
   "cell_type": "code",
   "execution_count": 17,
   "metadata": {
    "colab": {
     "base_uri": "https://localhost:8080/"
    },
    "id": "MFrUOYSmgoWK",
    "outputId": "f71e5e64-ce64-4496-90df-b620702fd5a5"
   },
   "outputs": [
    {
     "data": {
      "text/plain": [
       "9223372036854775808"
      ]
     },
     "execution_count": 17,
     "metadata": {},
     "output_type": "execute_result"
    }
   ],
   "source": [
    "2**63"
   ]
  },
  {
   "cell_type": "markdown",
   "metadata": {
    "id": "zgMfjTqMg5VE"
   },
   "source": [
    "# Example 6 : Computing the Average of Two Numbers (first attempt)\n",
    "* Try to use the program to compute the average of 3 and 4.  What do you observe?\n"
   ]
  },
  {
   "cell_type": "code",
   "execution_count": 18,
   "metadata": {
    "colab": {
     "base_uri": "https://localhost:8080/"
    },
    "id": "f69t7dIHgpPl",
    "outputId": "fd80f340-f9e9-46b0-f853-1766413eabd4"
   },
   "outputs": [
    {
     "name": "stdout",
     "output_type": "stream",
     "text": [
      "Overwriting average.c\n"
     ]
    }
   ],
   "source": [
    "%%writefile average.c\n",
    "\n",
    "#include <stdio.h>\n",
    "\n",
    "int main () {\n",
    "  int a = 3;\n",
    "  int b = 5;\n",
    "  int c = (a+b)/2;\n",
    "  printf (\"The average of %d and %d is %d\\n\",a,b,c);\n",
    "}"
   ]
  },
  {
   "cell_type": "code",
   "execution_count": 19,
   "metadata": {
    "id": "Qh4JWpXAjGMI"
   },
   "outputs": [],
   "source": [
    "!gcc -o average average.c"
   ]
  },
  {
   "cell_type": "code",
   "execution_count": 20,
   "metadata": {
    "colab": {
     "base_uri": "https://localhost:8080/"
    },
    "id": "FhbJM05YjUDJ",
    "outputId": "50bb7957-1feb-4237-c7ab-a0f38964935a"
   },
   "outputs": [
    {
     "name": "stdout",
     "output_type": "stream",
     "text": [
      "The average of 3 and 5 is 4\n"
     ]
    }
   ],
   "source": [
    "!./average"
   ]
  },
  {
   "cell_type": "markdown",
   "metadata": {
    "id": "vuXMV-Nqsk-b"
   },
   "source": [
    "# Example 7 : Computing the Average of Two Numbers (second attempt)\n",
    "* Note that it is not enough just to change the type of the c variable to a float. \n",
    "* When using printf, %f is a placeholder for the float type.\n"
   ]
  },
  {
   "cell_type": "code",
   "execution_count": 21,
   "metadata": {
    "colab": {
     "base_uri": "https://localhost:8080/"
    },
    "id": "XbjmylKojVCz",
    "outputId": "ac082489-6c68-4adb-8117-d49d286aec3d"
   },
   "outputs": [
    {
     "name": "stdout",
     "output_type": "stream",
     "text": [
      "Overwriting average.c\n"
     ]
    }
   ],
   "source": [
    "%%writefile average.c\n",
    "\n",
    "#include <stdio.h>\n",
    "\n",
    "int main () {\n",
    "  int a = 3;\n",
    "  int b = 4;\n",
    "  float c = (a+b)/2;\n",
    "  printf (\"The average of %d and %d is %f\\n\",a,b,c);\n",
    "}"
   ]
  },
  {
   "cell_type": "code",
   "execution_count": 22,
   "metadata": {
    "id": "3LPVZUVlsyTR"
   },
   "outputs": [],
   "source": [
    "!gcc -o average average.c"
   ]
  },
  {
   "cell_type": "code",
   "execution_count": 23,
   "metadata": {
    "colab": {
     "base_uri": "https://localhost:8080/"
    },
    "id": "kNlLsTyjs0Zi",
    "outputId": "5d462a78-b6b2-4708-9260-7d23eaa6fa9a"
   },
   "outputs": [
    {
     "name": "stdout",
     "output_type": "stream",
     "text": [
      "The average of 3 and 4 is 3.000000\n"
     ]
    }
   ],
   "source": [
    "!./average"
   ]
  },
  {
   "cell_type": "markdown",
   "metadata": {
    "id": "XGARNz_ytLzP"
   },
   "source": [
    "# Example 8 : Computing the Average of Two Numbers (third attempt)\n",
    "* Exercise : We can control the number of decimal digits printed.  For example change the %f to %.2f.  What do you observe?"
   ]
  },
  {
   "cell_type": "code",
   "execution_count": 24,
   "metadata": {
    "colab": {
     "base_uri": "https://localhost:8080/"
    },
    "id": "FyDHhy2Os1vz",
    "outputId": "fbec361c-2528-4c62-cd7f-3fcd9de6bfbb"
   },
   "outputs": [
    {
     "name": "stdout",
     "output_type": "stream",
     "text": [
      "Overwriting average.c\n"
     ]
    }
   ],
   "source": [
    "%%writefile average.c\n",
    "\n",
    "#include <stdio.h>\n",
    "\n",
    "int main () {\n",
    "  int a = 3;\n",
    "  int b = 4;\n",
    "  float c = (a+b)/2.0;\n",
    "  printf (\"The average of %d and %d is %f\\n\",a,b,c);\n",
    "}"
   ]
  },
  {
   "cell_type": "code",
   "execution_count": 25,
   "metadata": {
    "id": "sabr7XaAtgbn"
   },
   "outputs": [],
   "source": [
    "!gcc -o average average.c"
   ]
  },
  {
   "cell_type": "code",
   "execution_count": 26,
   "metadata": {
    "colab": {
     "base_uri": "https://localhost:8080/"
    },
    "id": "XRCHXqI4tiM7",
    "outputId": "3e6f4598-3c74-4067-a96e-ddc328f2cd62"
   },
   "outputs": [
    {
     "name": "stdout",
     "output_type": "stream",
     "text": [
      "The average of 3 and 4 is 3.500000\n"
     ]
    }
   ],
   "source": [
    "!./average"
   ]
  },
  {
   "cell_type": "markdown",
   "metadata": {
    "id": "w_RPhqu3vxeO"
   },
   "source": [
    "# Example 9 : Using the sizeof command\n",
    "* For many compilers a float is stored using 32 bits (or 4 bytes).  \n",
    "* If more precision and/or range is required you can use a double or a long double.\n",
    "* For many compilers a double is stored using 64 bits (or 8 bytes). \n",
    "* For many compilers a long double is stored using 128 bits (or 8 bytes). \n",
    "* According to the C standard a long int must be at least 32 bits while a long long int must be at least 64 bits.\n",
    "* Note that *long int* is the same as *long* and *long long int* is the same as *long long*.\n",
    "* The C char and C short types are special integer types with very limited range but require less memory to store.\n",
    "* There are unsigned versions of the integer types for storing only non-negative integers.  \n",
    "** They have a larger range since they do not require a sign bit.\n",
    "** For example the largest unsigned int is $2^{32}-1 = 4294967295$.\n",
    "* As these sizes are completely compiler dependent it is a good idea to check them before deciding on which types to use for your projects."
   ]
  },
  {
   "cell_type": "code",
   "execution_count": 27,
   "metadata": {
    "colab": {
     "base_uri": "https://localhost:8080/"
    },
    "id": "W16h7Mz4v4g-",
    "outputId": "872ca52f-881f-447f-91cd-7ac1bf5c57d8"
   },
   "outputs": [
    {
     "name": "stdout",
     "output_type": "stream",
     "text": [
      "Overwriting size.c\n"
     ]
    }
   ],
   "source": [
    "%%writefile size.c\n",
    "\n",
    "#include <stdio.h>\n",
    "\n",
    "int main () {\n",
    "  printf (\"A C char requires %ld bytes of storage\\n\",sizeof(char));\n",
    "  printf (\"A C short requires %ld bytes of storage\\n\",sizeof(short));\n",
    "  printf (\"A C int requires %ld bytes of storage\\n\",sizeof(int));\n",
    "  printf (\"A C long int requires %ld bytes of storage\\n\",sizeof(long));\n",
    "  printf (\"A C long long int requires %ld bytes of storage\\n\",sizeof(long long));\n",
    "  printf (\"A C float requires %ld bytes of storage\\n\",sizeof(float));\n",
    "  printf (\"A C double requires %ld bytes of storage\\n\",sizeof(double));\n",
    "  printf (\"A C long double requires %ld bytes of storage\\n\",sizeof(long double));\n",
    "}"
   ]
  },
  {
   "cell_type": "code",
   "execution_count": 28,
   "metadata": {
    "id": "0iEkfmKwwWc5"
   },
   "outputs": [],
   "source": [
    "!gcc -o size size.c"
   ]
  },
  {
   "cell_type": "code",
   "execution_count": 29,
   "metadata": {
    "colab": {
     "base_uri": "https://localhost:8080/"
    },
    "id": "bxtDyEj3wb26",
    "outputId": "9618ca12-2e9e-4452-aec7-09e93640101c"
   },
   "outputs": [
    {
     "name": "stdout",
     "output_type": "stream",
     "text": [
      "A C char requires 1 bytes of storage\n",
      "A C short requires 2 bytes of storage\n",
      "A C int requires 4 bytes of storage\n",
      "A C long int requires 8 bytes of storage\n",
      "A C long long int requires 8 bytes of storage\n",
      "A C float requires 4 bytes of storage\n",
      "A C double requires 8 bytes of storage\n",
      "A C long double requires 16 bytes of storage\n"
     ]
    }
   ],
   "source": [
    "!./size"
   ]
  },
  {
   "cell_type": "markdown",
   "metadata": {
    "id": "vxPmnq0NuJ3W"
   },
   "source": [
    "# Exercise 1 : Write a C program to compute the average of 4 integers.  "
   ]
  }
 ],
 "metadata": {
  "colab": {
   "provenance": []
  },
  "kernelspec": {
   "display_name": "Python 3",
   "name": "python3"
  },
  "language_info": {
   "name": "python"
  }
 },
 "nbformat": 4,
 "nbformat_minor": 0
}