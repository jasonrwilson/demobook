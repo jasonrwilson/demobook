{
  "nbformat": 4,
  "nbformat_minor": 0,
  "metadata": {
    "colab": {
      "provenance": []
    },
    "kernelspec": {
      "name": "python3",
      "display_name": "Python 3"
    },
    "language_info": {
      "name": "python"
    }
  },
  "cells": [
    {
      "cell_type": "markdown",
      "source": [
        "# Example 1 : Working with C Arrays and Control (for loops, if/else)\n",
        "* Arrays in C are 0 based (like Python).\n",
        "* The values contained in an uninitialized array are arbitrary.\n",
        "** In particular, do not assume an uninitialized array contains all zeros.\n",
        "* Cannot copy arrays using simple assignment.  \n",
        "** Use a for loop to copy arrays.  \n",
        "* We can \"pretty print\" an array using if/else inside the loop.\n",
        "* C does not do runtime array bounds checking (unlike Python).\n",
        "** This improves performance but can result in difficult to find bugs.\n",
        "* We will learn about functions later to avoid duplicating code."
      ],
      "metadata": {
        "id": "-fVn9aK6_1wX"
      }
    },
    {
      "cell_type": "code",
      "source": [
        "%%writefile arrays.c\n",
        "\n",
        "#include <stdio.h>\n",
        "\n",
        "int main () {\n",
        "  int a[4] = { 4, 3, 2, 1 };\n",
        "  int b[4] = { 1, 2, 3, 4 };\n",
        "  int c[4];\n",
        "  int d[4];\n",
        "\n",
        "  /* C arrays are 0 based */\n",
        "  printf (\"a[%d] = %d\\n\",1,a[1]);\n",
        "\n",
        "  /* The values contained in an unitialized array are arbitrary */\n",
        "  printf (\"d[%d] = %d\\n\",2,d[2]);\n",
        "  \n",
        "  /* c = a; this code will cause a syntax error */\n",
        "\n",
        "  /* use a for loop to copy an array */\n",
        "  for (int i=0;i<4;i++) {\n",
        "    c[i] = a[i];\n",
        "  }\n",
        "\n",
        "  /* use a for loop to print an array */\n",
        "  printf (\"c = { \");\n",
        "  for (int i=0;i<4;i++) {\n",
        "    printf (\"%d\",c[i]);\n",
        "    if (i < 3) {\n",
        "      printf (\", \");\n",
        "    } else {\n",
        "      printf (\" }\\n\");\n",
        "    }\n",
        "  }\n",
        "\n",
        "  /* use a for loop to add two arrays */\n",
        "  for (int i=0;i<4;i++) {\n",
        "    d[i] = a[i] + b[i];\n",
        "  }\n",
        "\n",
        "  /* use a for loop to print an array */\n",
        "  printf (\"d = { \");\n",
        "  for (int i=0;i<4;i++) {\n",
        "    printf (\"%d\",d[i]);\n",
        "    if (i < 3) {\n",
        "      printf (\", \");\n",
        "    } else {\n",
        "      printf (\" }\\n\");\n",
        "    }\n",
        "  }\n",
        "\n",
        "  /* writing beyond the end of an array can corrupt other variables */\n",
        "  a[4] = 10;\n",
        "  printf (\"b = { \");\n",
        "  for (int i=0;i<4;i++) {\n",
        "    printf (\"%d\",b[i]);\n",
        "    if (i < 3) {\n",
        "      printf (\", \");\n",
        "    } else {\n",
        "      printf (\" }\\n\");\n",
        "    }\n",
        "  }\n",
        "\n",
        "}"
      ],
      "metadata": {
        "colab": {
          "base_uri": "https://localhost:8080/"
        },
        "id": "BXbnfKquAMOo",
        "outputId": "b76e23c5-fbd9-4ac8-cd8d-fdb9dbb4f40f"
      },
      "execution_count": 1,
      "outputs": [
        {
          "output_type": "stream",
          "name": "stdout",
          "text": [
            "Writing arrays.c\n"
          ]
        }
      ]
    },
    {
      "cell_type": "code",
      "source": [
        "!gcc -o arrays arrays.c"
      ],
      "metadata": {
        "id": "gErDd3teA902"
      },
      "execution_count": 2,
      "outputs": []
    },
    {
      "cell_type": "code",
      "source": [
        "!./arrays"
      ],
      "metadata": {
        "colab": {
          "base_uri": "https://localhost:8080/"
        },
        "id": "U5wQ-G9hBCP3",
        "outputId": "cbd9e74f-7a30-466c-fa94-242f66907984"
      },
      "execution_count": 3,
      "outputs": [
        {
          "output_type": "stream",
          "name": "stdout",
          "text": [
            "a[1] = 3\n",
            "d[2] = -1597841248\n",
            "c = { 4, 3, 2, 1 }\n",
            "d = { 5, 5, 5, 5 }\n",
            "b = { 10, 2, 3, 4 }\n"
          ]
        }
      ]
    },
    {
      "cell_type": "markdown",
      "source": [
        "# Example 2 : Finding the smallest and largest numbers in an array.\n",
        "* Use FLT_MAX and FLT_MIN to avoid special cases.\n",
        "** FLT_MAX is the largest possible number of float type.\n",
        "** FLT_MIN is the smallest possible number of float type.\n",
        "** These constants are defined in the C header file *float.h*\n",
        "* The %g in printf can be used to print variables of float type (instead of %f).  "
      ],
      "metadata": {
        "id": "1aBEyEH46AVU"
      }
    },
    {
      "cell_type": "code",
      "execution_count": 4,
      "metadata": {
        "colab": {
          "base_uri": "https://localhost:8080/"
        },
        "id": "D3TfdXrx3zSj",
        "outputId": "a30f6a88-7732-4035-c24e-19a9cba9ff14"
      },
      "outputs": [
        {
          "output_type": "stream",
          "name": "stdout",
          "text": [
            "Writing minmax.c\n"
          ]
        }
      ],
      "source": [
        "%%writefile minmax.c\n",
        "\n",
        "#include <stdio.h>\n",
        "#include <float.h>\n",
        "\n",
        "#define N 10\n",
        "\n",
        "int main () {\n",
        "  float num[N] = { -2.3, 7.2, -4.5, 1.6, 2.3, -0.7, 5.3, 0.9, 3.4, 6.1 };\n",
        "  float min = FLT_MAX;\n",
        "  float max = FLT_MIN;\n",
        "  for (int i=0;i<N;i++) {\n",
        "    if (num[i] < min) {\n",
        "      min = num[i];\n",
        "    }\n",
        "    if (num[i] > max) {\n",
        "      max = num[i];\n",
        "    }\n",
        "  }\n",
        "  printf (\"The minimum number is %g\\n\",min);\n",
        "  printf (\"The maximum number is %g\\n\",max);\n",
        "}"
      ]
    },
    {
      "cell_type": "code",
      "source": [
        "!gcc -o minmax minmax.c"
      ],
      "metadata": {
        "id": "FvduPWZD5Qt-"
      },
      "execution_count": 5,
      "outputs": []
    },
    {
      "cell_type": "code",
      "source": [
        "!./minmax"
      ],
      "metadata": {
        "colab": {
          "base_uri": "https://localhost:8080/"
        },
        "id": "dXDjmwCd5SZM",
        "outputId": "e04da117-320b-4d02-c07d-3094a3d68fa3"
      },
      "execution_count": 6,
      "outputs": [
        {
          "output_type": "stream",
          "name": "stdout",
          "text": [
            "The minimum number is -4.5\n",
            "The maximum number is 7.2\n"
          ]
        }
      ]
    },
    {
      "cell_type": "markdown",
      "source": [
        "# Example 3 : Finding the Two Smallest Numbers in an array.\n",
        "* If the $i^{th}$ number is less than the current smallest:\n",
        "** second smallest = smallest\n",
        "** smallest = $i^{th}$ number\n",
        "* Else If the $i^{th}$ number is less than the second smallest:\n",
        "** second smallest = $i^{th}$ number\n",
        "* Exercise : modify the code to handle duplicates correctly.  \n",
        "** To test your code, replace the -0.7 in the array with -4.5."
      ],
      "metadata": {
        "id": "i-ABu1F79SCu"
      }
    },
    {
      "cell_type": "code",
      "source": [
        "%%writefile smallest2.c\n",
        "\n",
        "#include <stdio.h>\n",
        "#include <float.h>\n",
        "\n",
        "#define N 10\n",
        "\n",
        "int main () {\n",
        "  float num[N] = { -2.3, 7.2, -4.5, 1.6, 2.3, -0.7, 5.3, 0.9, 3.4, 6.1 };\n",
        "  float min = FLT_MAX;\n",
        "  float next = FLT_MAX;\n",
        "  for (int i=0;i<N;i++) {\n",
        "    if (num[i] < min) {\n",
        "      next = min;\n",
        "      min = num[i];\n",
        "    } else if (num[i] < next) {\n",
        "      next = num[i];\n",
        "    }\n",
        "  }\n",
        "  printf (\"The smallest number is %g\\n\",min);\n",
        "  printf (\"The next smallest number is %g\\n\",next);\n",
        "}"
      ],
      "metadata": {
        "colab": {
          "base_uri": "https://localhost:8080/"
        },
        "id": "1wu31Krw54sc",
        "outputId": "bd4227f5-1f7b-499a-f2a4-e26f5fc5bcf7"
      },
      "execution_count": 7,
      "outputs": [
        {
          "output_type": "stream",
          "name": "stdout",
          "text": [
            "Writing smallest2.c\n"
          ]
        }
      ]
    },
    {
      "cell_type": "code",
      "source": [
        "!gcc -o smallest2 smallest2.c"
      ],
      "metadata": {
        "id": "9QH9kT7F-Plf"
      },
      "execution_count": 8,
      "outputs": []
    },
    {
      "cell_type": "code",
      "source": [
        "!./smallest2"
      ],
      "metadata": {
        "colab": {
          "base_uri": "https://localhost:8080/"
        },
        "id": "zKv35gdc-SQu",
        "outputId": "de0528aa-c0c9-4b33-88ab-ac07e59b66ff"
      },
      "execution_count": 9,
      "outputs": [
        {
          "output_type": "stream",
          "name": "stdout",
          "text": [
            "The smallest number is -4.5\n",
            "The next smallest number is -2.3\n"
          ]
        }
      ]
    },
    {
      "cell_type": "markdown",
      "source": [
        "# Example 4 : Implementing Bubble Sort with a While Loop\n",
        "* In one round of bubble sort, adjacent numbers are swapped if they are out of order.\n",
        "* Rounds are repeated until the list is sorted. \n",
        "** Can detect a sorted list one a round does not require any swaps.\n",
        "** Natural to use a *while loop* since the number of rounds that will be required is unknown."
      ],
      "metadata": {
        "id": "y8ekLvE8LvXY"
      }
    },
    {
      "cell_type": "code",
      "source": [
        "%%writefile bubble.c\n",
        "\n",
        "#include <stdio.h>\n",
        "\n",
        "#define N 10\n",
        "\n",
        "int main () {\n",
        "  float num[N] = { -2.3, 7.2, -4.5, 1.6, 2.3, -0.7, 5.3, 0.9, 3.4, 6.1 };\n",
        "  int done = 0;\n",
        "  while (!done) {\n",
        "    done = 1;\n",
        "    for (int i=0;i<N-1;i++) {\n",
        "      if (num[i] > num[i+1]) {\n",
        "        float temp = num[i];\n",
        "        num[i] = num[i+1];\n",
        "        num[i+1] = temp;\n",
        "        done = 0;\n",
        "      }\n",
        "    }\n",
        "  }\n",
        "  printf (\"num = { \");\n",
        "  for (int i=0;i<N;i++) {\n",
        "    printf (\"%g\",num[i]);\n",
        "    if (i < N-1) {\n",
        "      printf (\", \");\n",
        "    } else {\n",
        "      printf (\" }\\n\");\n",
        "    }\n",
        "  }\n",
        "}"
      ],
      "metadata": {
        "colab": {
          "base_uri": "https://localhost:8080/"
        },
        "id": "22TJvx85-Wov",
        "outputId": "ca746718-a93b-4152-f991-6b0644ce17bb"
      },
      "execution_count": 10,
      "outputs": [
        {
          "output_type": "stream",
          "name": "stdout",
          "text": [
            "Writing bubble.c\n"
          ]
        }
      ]
    },
    {
      "cell_type": "code",
      "source": [
        "!gcc -o bubble bubble.c"
      ],
      "metadata": {
        "id": "SAtUJl7sMIm0"
      },
      "execution_count": 11,
      "outputs": []
    },
    {
      "cell_type": "code",
      "source": [
        "!./bubble"
      ],
      "metadata": {
        "colab": {
          "base_uri": "https://localhost:8080/"
        },
        "id": "flq52e1OMKA_",
        "outputId": "8f2751d6-d3e2-4776-da34-f3558e4a57b1"
      },
      "execution_count": 12,
      "outputs": [
        {
          "output_type": "stream",
          "name": "stdout",
          "text": [
            "num = { -4.5, -2.3, -0.7, 0.9, 1.6, 2.3, 3.4, 5.3, 6.1, 7.2 }\n"
          ]
        }
      ]
    },
    {
      "cell_type": "markdown",
      "source": [
        "# Example 5 : A matrix vector product using nested for loops.\n",
        "* Two dimensional arrays in C are initialized row by row (like Python).\n",
        "* Use $A[i][j]$ to access the array entry in the $i^{th}$ row and $j^{th}$ column of $A$ (both indices are 0 based).\n",
        "* The $i^{th}$ component (or row) of $Ax$ is $A[i][0] \\, x[0] + A[i][1] \\, x[1] + ... + A[i][N-1] \\, x[N-1]$."
      ],
      "metadata": {
        "id": "nbmCzYqYRCyE"
      }
    },
    {
      "cell_type": "code",
      "source": [
        "%%writefile matvec.c\n",
        "\n",
        "#include <stdio.h>\n",
        "\n",
        "#define N 5\n",
        "\n",
        "int main () {\n",
        "  int A[N][N] = { { 1, 2, 3, 4, 5 }, { 2, 3, 4, 5, 1}, {3, 4, 5, 1, 2},\n",
        "                { 4, 5, 1, 2, 3 }, { 5, 1, 2, 3, 4} };\n",
        "  int x[N] = { 1, 2, 3, 2, 1};\n",
        "  int Ax[N];\n",
        "  for (int i=0;i<N;i++) {\n",
        "    Ax[i] = 0;\n",
        "    for (int j=0;j<N;j++) {\n",
        "      Ax[i] += A[i][j]*x[j];\n",
        "    }\n",
        "  }\n",
        "\n",
        "  printf (\"Ax = { \");\n",
        "  for (int i=0;i<N;i++) {\n",
        "    printf (\"%d\",Ax[i]);\n",
        "    if (i < N-1) {\n",
        "      printf (\", \");\n",
        "    } else {\n",
        "      printf (\" }\\n\");\n",
        "    }\n",
        "  }\n",
        "}"
      ],
      "metadata": {
        "colab": {
          "base_uri": "https://localhost:8080/"
        },
        "id": "Xuq2b-WtMRUb",
        "outputId": "8f34344f-a9b6-411d-e14d-f994319aca76"
      },
      "execution_count": 13,
      "outputs": [
        {
          "output_type": "stream",
          "name": "stdout",
          "text": [
            "Writing matvec.c\n"
          ]
        }
      ]
    },
    {
      "cell_type": "code",
      "source": [
        "!gcc -o matvec matvec.c"
      ],
      "metadata": {
        "id": "7V1hU3nERPQz"
      },
      "execution_count": 14,
      "outputs": []
    },
    {
      "cell_type": "code",
      "source": [
        "!./matvec"
      ],
      "metadata": {
        "colab": {
          "base_uri": "https://localhost:8080/"
        },
        "id": "rexazIP6RsG3",
        "outputId": "22416801-93e2-47b5-9e44-d79a78ee9f84"
      },
      "execution_count": 15,
      "outputs": [
        {
          "output_type": "stream",
          "name": "stdout",
          "text": [
            "Ax = { 27, 31, 30, 24, 23 }\n"
          ]
        }
      ]
    },
    {
      "cell_type": "code",
      "source": [],
      "metadata": {
        "id": "f8c7G_huSOTf"
      },
      "execution_count": 15,
      "outputs": []
    },
    {
      "cell_type": "markdown",
      "source": [
        "# Exercise 1 : Write a C program to find the 3 smallest numbers in an array.\n",
        "* Be sure that your code correctly handles the case where the array contains duplicates."
      ],
      "metadata": {
        "id": "kn5W7l_gcezc"
      }
    },
    {
      "cell_type": "code",
      "source": [],
      "metadata": {
        "id": "foc-2iS9cng4"
      },
      "execution_count": 15,
      "outputs": []
    },
    {
      "cell_type": "markdown",
      "source": [
        "# Exercise 2 : Write a C program to calculate the matrix product of A and B.\n",
        "* You can assume that $A$ and $B$ are both $N \\times N$ matrices.  \n",
        "* $AB[i] [j]$ is $A[i][0] \\, B[0][j] + A[i][1] \\, B[1][j] + ... + A[i][N-1] \\, B[N-1][j]$.\n",
        "* You will need to use 3 nested for loops."
      ],
      "metadata": {
        "id": "qBcrY677SMvE"
      }
    },
    {
      "cell_type": "code",
      "source": [],
      "metadata": {
        "id": "nUWsJ2ljSSr5"
      },
      "execution_count": 15,
      "outputs": []
    },
    {
      "cell_type": "markdown",
      "source": [
        "# Exercise 3 : Write a C program to compute the sample mean, sample variance, sample standard deviation, and median of an array of data.\n",
        "* The sample mean is $\\bar{x} = \\displaystyle\\frac{1}{N} \\displaystyle\\sum_{i=1}^N x_i$.\n",
        "* The sample variance is $\\displaystyle\\frac{1}{N-1} \\displaystyle\\sum_{i=1}^N (x_i - \\bar{x})^2$\n",
        "* The sample standard deviation is the square root of the sample variance.  \n",
        "** To compute the square root in C use the *sqrt* function found in the *math.h* header file.  \n",
        "* To easily find the median, first sort the array.  \n",
        "* For extra credit, find the mode of the array of data.  \n",
        "** If all numbers have the same frequency, there is no mode.  \n",
        "** There can be a single mode or multiple modes.  \n",
        "** Be sure your code gracefully handles all possibilities."
      ],
      "metadata": {
        "id": "sgpUNOSTWQcv"
      }
    },
    {
      "cell_type": "code",
      "source": [],
      "metadata": {
        "id": "h9sPqOT_fv56"
      },
      "execution_count": 15,
      "outputs": []
    }
  ]
}